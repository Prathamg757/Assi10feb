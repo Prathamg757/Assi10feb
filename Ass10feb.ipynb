{
 "cells": [
  {
   "cell_type": "code",
   "execution_count": 2,
   "id": "6d8041b0-0edb-4cf6-b790-4a69666902ae",
   "metadata": {},
   "outputs": [
    {
     "data": {
      "text/plain": [
       "\"The open() function is used to open a file in Python.\\n\\nThe different modes in which a file can be opened are:\\n\\n'r' (read mode) - This mode is used to open a file for reading. The file must exist, otherwise, an error is raised. This is the default mode in which a file is opened.\\n\\n'w' (write mode) - This mode is used to open a file for writing. If the file already exists, its content is truncated, and if the file does not exist, a new file is created.\\n\\n'a' (append mode) - This mode is used to open a file for writing and appending data to the end of the file. If the file already exists, the new data is appended to the end of the file, and if the file does not exist, a new file is created.\\n\\n'x' (exclusive creation mode) - This mode is used to open a file for writing, but only if the file does not already exist. If the file already exists, an error is raised.\\n\\n'b' (binary mode) - This mode is used to open a file in binary mode. The data read from a binary file is returned as bytes, and not as a string. This mode is often used when working with binary files, such as images or audio files.\\n\\nThe different modes of opening a file can be combined, for example:\\n\\n'rb' - This mode opens a file in binary read mode.\\n'wb' - This mode opens a file in binary write mode.\\n'ab' - This mode opens a file in binary append mode.\\n'rb+' - This mode opens a file in read and write mode, allowing both reading and writing of the file.\""
      ]
     },
     "execution_count": 2,
     "metadata": {},
     "output_type": "execute_result"
    }
   ],
   "source": [
    "#solution 1\n",
    "'''The open() function is used to open a file in Python.\n",
    "\n",
    "The different modes in which a file can be opened are:\n",
    "\n",
    "'r' (read mode) - This mode is used to open a file for reading. The file must exist, otherwise, an error is raised. This is the default mode in which a file is opened.\n",
    "\n",
    "'w' (write mode) - This mode is used to open a file for writing. If the file already exists, its content is truncated, and if the file does not exist, a new file is created.\n",
    "\n",
    "'a' (append mode) - This mode is used to open a file for writing and appending data to the end of the file. If the file already exists, the new data is appended to the end of the file, and if the file does not exist, a new file is created.\n",
    "\n",
    "'x' (exclusive creation mode) - This mode is used to open a file for writing, but only if the file does not already exist. If the file already exists, an error is raised.\n",
    "\n",
    "'b' (binary mode) - This mode is used to open a file in binary mode. The data read from a binary file is returned as bytes, and not as a string. This mode is often used when working with binary files, such as images or audio files.\n",
    "\n",
    "The different modes of opening a file can be combined, for example:\n",
    "\n",
    "'rb' - This mode opens a file in binary read mode.\n",
    "'wb' - This mode opens a file in binary write mode.\n",
    "'ab' - This mode opens a file in binary append mode.\n",
    "'rb+' - This mode opens a file in read and write mode, allowing both reading and writing of the file.'''\n",
    "\n",
    "#f = open('example.txt', 'r')\n",
    "\n",
    "\n",
    "\n"
   ]
  },
  {
   "cell_type": "code",
   "execution_count": 4,
   "id": "d179dfde-d2c1-447b-8051-0339dc8523eb",
   "metadata": {},
   "outputs": [
    {
     "data": {
      "text/plain": [
       "\"\\nf = open('example.txt', 'r')\\n# perform operations on the file\\nf.close()\\nwith open('example.txt', 'r') as f:\\n\""
      ]
     },
     "execution_count": 4,
     "metadata": {},
     "output_type": "execute_result"
    }
   ],
   "source": [
    "#solution2\n",
    "'''The close() function is used to close an opened file. Closing a file is important because it frees up the resources that were being used by the file and ensures that the changes made to the file have been saved properly.\n",
    "\n",
    "When a file is opened, it is assigned a file handle, which is a unique identifier used by the operating system to keep track of the file. The file handle is a limited resource, and if too many files are opened without being closed, the system may run out of file handles, causing errors or even crashing the program.\n",
    "\n",
    "Closing a file also ensures that any changes made to the file are written to the disk, so that the file can be accessed correctly in the future. If the file is not closed properly, the changes made to the file may not be saved, leading to data loss.\n",
    "\n",
    "Therefore, it is always a good practice to close a file after it has been used, either explicitly using the close() function or by using the with statement, which automatically closes the file for you.'''\n",
    "\n",
    "'''\n",
    "f = open('example.txt', 'r')\n",
    "# perform operations on the file\n",
    "f.close()\n",
    "with open('example.txt', 'r') as f:\n",
    "'''"
   ]
  },
  {
   "cell_type": "code",
   "execution_count": null,
   "id": "c9552761-5f29-4187-b578-cd2b90afa054",
   "metadata": {},
   "outputs": [],
   "source": [
    "#solution3\n",
    "# Creating a text file and writing to it\n",
    "with open(\"text_file.txt\", \"w\") as file:\n",
    "    file.write(\"I want to become a Data Scientist\")\n",
    "\n",
    "# Reading the contents of the file\n",
    "with open(\"text_file.txt\", \"r\") as file:\n",
    "    content = file.read()\n",
    "    print(content)"
   ]
  },
  {
   "cell_type": "code",
   "execution_count": null,
   "id": "e616604c-97cd-4014-a6b9-7939122e9121",
   "metadata": {},
   "outputs": [],
   "source": [
    "#solution 4\n",
    "#read() - This method reads the entire content of the file as a string and returns it. If the size argument is not specified, it reads the entire file.\n",
    "with open(\"text_file.txt\", \"r\") as file:\n",
    "    content = file.read()\n",
    "    print(content)\n",
    "#readline() - This method reads a single line from the file and returns it as a string. Each time the method is called, it returns the next line of the file.\n",
    "with open(\"text_file.txt\", \"r\") as file:\n",
    "    line = file.readline()\n",
    "    while line:\n",
    "        print(line, end='')\n",
    "        line = file.readline()\n",
    "#readlines() - This method reads all the lines of the file and returns them as a list of strings.\n",
    "with open(\"text_file.txt\", \"r\") as file:\n",
    "    lines = file.readlines()\n",
    "    for line in lines:\n",
    "        print(line, end='')"
   ]
  },
  {
   "cell_type": "code",
   "execution_count": null,
   "id": "4a213243-1b2d-4c29-9cb6-5396a5329a45",
   "metadata": {},
   "outputs": [],
   "source": [
    "#solution 5\n",
    "'''The with statement is used with the open() function in Python to ensure that the file is properly closed after it is used, even if an exception is raised. The with statement creates a context in which the file is automatically closed after the block of code is executed, without the need for an explicit close() call.\n",
    "\n",
    "The advantage of using the with statement with the open() function is that it eliminates the need for manual resource management, making the code cleaner and less prone to errors. When a file is opened using the open() function, it is assigned a file handle, which is a unique identifier used by the operating system to keep track of the file. If the file is not closed properly, the file handle remains open and the system may run out of file handles, causing errors or even crashing the program.\n",
    "\n",
    "The with statement ensures that the file is closed properly, even if an error occurs within the block of code, by automatically closing the file when the block of code is finished executing. This eliminates the need for a try-except block to handle exceptions and the need for an explicit close() call.'''\n",
    "with open('example.txt', 'r') as file:"
   ]
  },
  {
   "cell_type": "code",
   "execution_count": null,
   "id": "e9eaf21a-22c7-48c2-b67a-577b923daf5f",
   "metadata": {},
   "outputs": [],
   "source": [
    "#solution 6\n",
    "#write() - This function writes a string to a file. The string can be any valid string, including a newline character \\n.\n",
    "with open(\"text_file.txt\", \"w\") as file:\n",
    "    file.write(\"I want to become a Data Scientist\\n\")\n",
    "    file.write(\"Data Science is a rapidly growing field\")\n",
    "    \n",
    "#writelines() - This function writes a list of strings to a file. The strings in the list are concatenated without any separator. To add a separator, such as a newline character, you need to include it in each string."
   ]
  }
 ],
 "metadata": {
  "kernelspec": {
   "display_name": "Python 3 (ipykernel)",
   "language": "python",
   "name": "python3"
  },
  "language_info": {
   "codemirror_mode": {
    "name": "ipython",
    "version": 3
   },
   "file_extension": ".py",
   "mimetype": "text/x-python",
   "name": "python",
   "nbconvert_exporter": "python",
   "pygments_lexer": "ipython3",
   "version": "3.10.6"
  }
 },
 "nbformat": 4,
 "nbformat_minor": 5
}
